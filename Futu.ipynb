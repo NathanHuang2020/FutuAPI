{
 "cells": [
  {
   "cell_type": "code",
   "execution_count": 14,
   "metadata": {},
   "outputs": [
    {
     "name": "stderr",
     "output_type": "stream",
     "text": [
      "2020-08-18 17:54:34,650 [open_context_base.py] _socket_reconnect_and_wait_ready:255: Start connecting: host=127.0.0.1; port=11111;\n",
      "2020-08-18 17:54:34,651 [open_context_base.py] on_connected:344: Connected : conn_id=14; \n",
      "2020-08-18 17:54:34,653 [open_context_base.py] _handle_init_connect:445: InitConnect ok: conn_id=14; info={'server_version': 215, 'login_user_id': 15468041, 'conn_id': 6701622334436074386, 'conn_key': 'A994227A5191D4D4', 'conn_iv': '8E0020F05F5BC2ED', 'keep_alive_interval': 10, 'is_encrypt': False};\n"
     ]
    },
    {
     "data": {
      "text/html": [
       "<div>\n",
       "<style scoped>\n",
       "    .dataframe tbody tr th:only-of-type {\n",
       "        vertical-align: middle;\n",
       "    }\n",
       "\n",
       "    .dataframe tbody tr th {\n",
       "        vertical-align: top;\n",
       "    }\n",
       "\n",
       "    .dataframe thead th {\n",
       "        text-align: right;\n",
       "    }\n",
       "</style>\n",
       "<table border=\"1\" class=\"dataframe\">\n",
       "  <thead>\n",
       "    <tr style=\"text-align: right;\">\n",
       "      <th></th>\n",
       "      <th>code</th>\n",
       "      <th>update_time</th>\n",
       "      <th>last_price</th>\n",
       "      <th>open_price</th>\n",
       "      <th>high_price</th>\n",
       "      <th>low_price</th>\n",
       "      <th>prev_close_price</th>\n",
       "      <th>volume</th>\n",
       "      <th>turnover</th>\n",
       "      <th>turnover_rate</th>\n",
       "      <th>...</th>\n",
       "      <th>pre_turnover</th>\n",
       "      <th>pre_change_val</th>\n",
       "      <th>pre_change_rate</th>\n",
       "      <th>pre_amplitude</th>\n",
       "      <th>after_price</th>\n",
       "      <th>after_high_price</th>\n",
       "      <th>after_low_price</th>\n",
       "      <th>after_change_val</th>\n",
       "      <th>after_change_rate</th>\n",
       "      <th>after_amplitude</th>\n",
       "    </tr>\n",
       "  </thead>\n",
       "  <tbody>\n",
       "    <tr>\n",
       "      <th>0</th>\n",
       "      <td>HK.00700</td>\n",
       "      <td>2020-08-18 16:08:03</td>\n",
       "      <td>512.0</td>\n",
       "      <td>515.0</td>\n",
       "      <td>516.5</td>\n",
       "      <td>509.0</td>\n",
       "      <td>504.5</td>\n",
       "      <td>13387278</td>\n",
       "      <td>6.858288e+09</td>\n",
       "      <td>0.14</td>\n",
       "      <td>...</td>\n",
       "      <td>N/A</td>\n",
       "      <td>N/A</td>\n",
       "      <td>N/A</td>\n",
       "      <td>N/A</td>\n",
       "      <td>N/A</td>\n",
       "      <td>N/A</td>\n",
       "      <td>N/A</td>\n",
       "      <td>N/A</td>\n",
       "      <td>N/A</td>\n",
       "      <td>N/A</td>\n",
       "    </tr>\n",
       "  </tbody>\n",
       "</table>\n",
       "<p>1 rows × 132 columns</p>\n",
       "</div>"
      ],
      "text/plain": [
       "       code          update_time  last_price  open_price  high_price  \\\n",
       "0  HK.00700  2020-08-18 16:08:03       512.0       515.0       516.5   \n",
       "\n",
       "   low_price  prev_close_price    volume      turnover  turnover_rate  ...  \\\n",
       "0      509.0             504.5  13387278  6.858288e+09           0.14  ...   \n",
       "\n",
       "   pre_turnover pre_change_val  pre_change_rate  pre_amplitude  after_price  \\\n",
       "0           N/A            N/A              N/A            N/A          N/A   \n",
       "\n",
       "  after_high_price after_low_price after_change_val after_change_rate  \\\n",
       "0              N/A             N/A              N/A               N/A   \n",
       "\n",
       "   after_amplitude  \n",
       "0              N/A  \n",
       "\n",
       "[1 rows x 132 columns]"
      ]
     },
     "metadata": {},
     "output_type": "display_data"
    },
    {
     "name": "stderr",
     "output_type": "stream",
     "text": [
      "2020-08-18 17:54:34,882 [network_manager.py] work:366: Close: conn_id=14\n"
     ]
    }
   ],
   "source": [
    "from futu import *\n",
    "import pandas as pd\n",
    "quote_ctx = OpenQuoteContext(host='127.0.0.1', port=11111)\n",
    "ret, data = quote_ctx.get_market_snapshot('HK.00700')\n",
    "quote_ctx.close() # 结束后记得关闭当条连接，防止连接条数用尽\n",
    "display(data)\n"
   ]
  },
  {
   "cell_type": "code",
   "execution_count": 17,
   "metadata": {},
   "outputs": [
    {
     "name": "stderr",
     "output_type": "stream",
     "text": [
      "2020-08-14 22:53:00,628 [open_context_base.py] _socket_reconnect_and_wait_ready:255: Start connecting: host=127.0.0.1; port=11111;\n",
      "2020-08-14 22:53:00,630 [open_context_base.py] on_connected:344: Connected : conn_id=15; \n",
      "2020-08-14 22:53:00,632 [open_context_base.py] _handle_init_connect:445: InitConnect ok: conn_id=15; info={'server_version': 215, 'login_user_id': 15468041, 'conn_id': 6700247886092238657, 'conn_key': 'F42FEDD8499144E9', 'conn_iv': '9A0046E4E69CC55B', 'keep_alive_interval': 10, 'is_encrypt': False};\n"
     ]
    },
    {
     "data": {
      "text/html": [
       "<div>\n",
       "<style scoped>\n",
       "    .dataframe tbody tr th:only-of-type {\n",
       "        vertical-align: middle;\n",
       "    }\n",
       "\n",
       "    .dataframe tbody tr th {\n",
       "        vertical-align: top;\n",
       "    }\n",
       "\n",
       "    .dataframe thead th {\n",
       "        text-align: right;\n",
       "    }\n",
       "</style>\n",
       "<table border=\"1\" class=\"dataframe\">\n",
       "  <thead>\n",
       "    <tr style=\"text-align: right;\">\n",
       "      <th></th>\n",
       "      <th>code</th>\n",
       "      <th>name</th>\n",
       "      <th>lot_size</th>\n",
       "      <th>stock_type</th>\n",
       "      <th>stock_child_type</th>\n",
       "      <th>stock_owner</th>\n",
       "      <th>option_type</th>\n",
       "      <th>strike_time</th>\n",
       "      <th>strike_price</th>\n",
       "      <th>suspension</th>\n",
       "      <th>listing_date</th>\n",
       "      <th>stock_id</th>\n",
       "      <th>delisting</th>\n",
       "      <th>index_option_type</th>\n",
       "      <th>main_contract</th>\n",
       "      <th>last_trade_time</th>\n",
       "    </tr>\n",
       "  </thead>\n",
       "  <tbody>\n",
       "    <tr>\n",
       "      <th>0</th>\n",
       "      <td>HK.00001</td>\n",
       "      <td>长和</td>\n",
       "      <td>500</td>\n",
       "      <td>STOCK</td>\n",
       "      <td>N/A</td>\n",
       "      <td></td>\n",
       "      <td></td>\n",
       "      <td></td>\n",
       "      <td>N/A</td>\n",
       "      <td>N/A</td>\n",
       "      <td>2015-03-18</td>\n",
       "      <td>4440996184065</td>\n",
       "      <td>False</td>\n",
       "      <td>N/A</td>\n",
       "      <td>False</td>\n",
       "      <td></td>\n",
       "    </tr>\n",
       "    <tr>\n",
       "      <th>1</th>\n",
       "      <td>HK.00002</td>\n",
       "      <td>中电控股</td>\n",
       "      <td>500</td>\n",
       "      <td>STOCK</td>\n",
       "      <td>N/A</td>\n",
       "      <td></td>\n",
       "      <td></td>\n",
       "      <td></td>\n",
       "      <td>N/A</td>\n",
       "      <td>N/A</td>\n",
       "      <td>1970-01-01</td>\n",
       "      <td>2</td>\n",
       "      <td>False</td>\n",
       "      <td>N/A</td>\n",
       "      <td>False</td>\n",
       "      <td></td>\n",
       "    </tr>\n",
       "    <tr>\n",
       "      <th>2</th>\n",
       "      <td>HK.00003</td>\n",
       "      <td>香港中华煤气</td>\n",
       "      <td>1000</td>\n",
       "      <td>STOCK</td>\n",
       "      <td>N/A</td>\n",
       "      <td></td>\n",
       "      <td></td>\n",
       "      <td></td>\n",
       "      <td>N/A</td>\n",
       "      <td>N/A</td>\n",
       "      <td>1970-01-01</td>\n",
       "      <td>3</td>\n",
       "      <td>False</td>\n",
       "      <td>N/A</td>\n",
       "      <td>False</td>\n",
       "      <td></td>\n",
       "    </tr>\n",
       "    <tr>\n",
       "      <th>3</th>\n",
       "      <td>HK.00004</td>\n",
       "      <td>九龙仓集团</td>\n",
       "      <td>1000</td>\n",
       "      <td>STOCK</td>\n",
       "      <td>N/A</td>\n",
       "      <td></td>\n",
       "      <td></td>\n",
       "      <td></td>\n",
       "      <td>N/A</td>\n",
       "      <td>N/A</td>\n",
       "      <td>1970-01-01</td>\n",
       "      <td>4</td>\n",
       "      <td>False</td>\n",
       "      <td>N/A</td>\n",
       "      <td>False</td>\n",
       "      <td></td>\n",
       "    </tr>\n",
       "    <tr>\n",
       "      <th>4</th>\n",
       "      <td>HK.00005</td>\n",
       "      <td>汇丰控股</td>\n",
       "      <td>400</td>\n",
       "      <td>STOCK</td>\n",
       "      <td>N/A</td>\n",
       "      <td></td>\n",
       "      <td></td>\n",
       "      <td></td>\n",
       "      <td>N/A</td>\n",
       "      <td>N/A</td>\n",
       "      <td>1970-01-01</td>\n",
       "      <td>5</td>\n",
       "      <td>False</td>\n",
       "      <td>N/A</td>\n",
       "      <td>False</td>\n",
       "      <td></td>\n",
       "    </tr>\n",
       "  </tbody>\n",
       "</table>\n",
       "</div>"
      ],
      "text/plain": [
       "       code    name  lot_size stock_type stock_child_type stock_owner  \\\n",
       "0  HK.00001      长和       500      STOCK              N/A               \n",
       "1  HK.00002    中电控股       500      STOCK              N/A               \n",
       "2  HK.00003  香港中华煤气      1000      STOCK              N/A               \n",
       "3  HK.00004   九龙仓集团      1000      STOCK              N/A               \n",
       "4  HK.00005    汇丰控股       400      STOCK              N/A               \n",
       "\n",
       "  option_type strike_time strike_price suspension listing_date       stock_id  \\\n",
       "0                                  N/A        N/A   2015-03-18  4440996184065   \n",
       "1                                  N/A        N/A   1970-01-01              2   \n",
       "2                                  N/A        N/A   1970-01-01              3   \n",
       "3                                  N/A        N/A   1970-01-01              4   \n",
       "4                                  N/A        N/A   1970-01-01              5   \n",
       "\n",
       "   delisting index_option_type  main_contract last_trade_time  \n",
       "0      False               N/A          False                  \n",
       "1      False               N/A          False                  \n",
       "2      False               N/A          False                  \n",
       "3      False               N/A          False                  \n",
       "4      False               N/A          False                  "
      ]
     },
     "execution_count": 17,
     "metadata": {},
     "output_type": "execute_result"
    }
   ],
   "source": [
    "from futu import *\n",
    "import pandas as pd\n",
    "quote_ctx = OpenQuoteContext(host='127.0.0.1', port=11111)\n",
    "ret, data = quote_ctx.get_stock_basicinfo(Market.HK, SecurityType.STOCK)\n",
    "  \n",
    "df = pd.DataFrame(data)\n",
    "df.head()"
   ]
  },
  {
   "cell_type": "code",
   "execution_count": 15,
   "metadata": {},
   "outputs": [
    {
     "name": "stderr",
     "output_type": "stream",
     "text": [
      "2020-08-14 22:36:10,307 [open_context_base.py] _socket_reconnect_and_wait_ready:255: Start connecting: host=127.0.0.1; port=11111;\n",
      "2020-08-14 22:36:10,309 [open_context_base.py] on_connected:344: Connected : conn_id=13; \n",
      "2020-08-14 22:36:10,311 [open_context_base.py] _handle_init_connect:445: InitConnect ok: conn_id=13; info={'server_version': 215, 'login_user_id': 15468041, 'conn_id': 6700243648501277455, 'conn_key': 'FB8EE7D24991C0B9', 'conn_iv': '84C88D165F9C6534', 'keep_alive_interval': 10, 'is_encrypt': False};\n"
     ]
    },
    {
     "name": "stdout",
     "output_type": "stream",
     "text": [
      "        code             time_key   open  close   high    low  pe_ratio  \\\n",
      "0   HK.00700  2019-09-11 00:00:00  339.8  344.8  346.6  338.2    36.405   \n",
      "1   HK.00700  2019-09-12 00:00:00  349.0  348.2  349.8  346.0    36.763   \n",
      "2   HK.00700  2019-09-13 00:00:00  348.8  348.4  349.4  345.4    36.784   \n",
      "3   HK.00700  2019-09-16 00:00:00  344.8  345.4  345.4  338.6    36.468   \n",
      "4   HK.00700  2019-09-17 00:00:00  342.0  342.4  344.2  339.4    36.153   \n",
      "5   HK.00700  2019-09-18 00:00:00  342.8  341.8  344.4  340.4    36.090   \n",
      "6   HK.00700  2019-09-19 00:00:00  341.4  337.2  342.0  336.8    35.606   \n",
      "7   HK.00700  2019-09-20 00:00:00  339.6  336.4  339.6  333.0    35.521   \n",
      "8   HK.00700  2019-09-23 00:00:00  335.2  334.6  337.2  334.0    35.332   \n",
      "9   HK.00700  2019-09-24 00:00:00  333.8  334.4  337.0  333.0    35.311   \n",
      "10  HK.00700  2019-09-25 00:00:00  329.8  327.2  331.2  326.8    34.553   \n",
      "11  HK.00700  2019-09-26 00:00:00  334.2  331.2  334.2  328.8    34.974   \n",
      "12  HK.00700  2019-09-27 00:00:00  328.8  328.2  330.2  327.4    34.659   \n",
      "13  HK.00700  2019-09-30 00:00:00  322.8  329.0  331.2  322.2    34.743   \n",
      "\n",
      "    turnover_rate    volume      turnover  change_rate  last_close  \n",
      "0         0.00165  15794903  5.437023e+09     1.471454       339.0  \n",
      "1         0.00160  15302176  5.348208e+09     0.986079       344.8  \n",
      "2         0.00104   9936410  3.471328e+09     0.057438       348.2  \n",
      "3         0.00245  23372263  8.009399e+09    -0.861079       348.4  \n",
      "4         0.00097   9225687  3.165508e+09    -0.868558       345.4  \n",
      "5         0.00077   7335407  2.516701e+09    -0.175234       342.4  \n",
      "6         0.00099   9437921  3.203339e+09    -1.345816       341.8  \n",
      "7         0.00202  19281922  6.502177e+09    -0.237248       337.2  \n",
      "8         0.00087   8307566  2.795298e+09    -0.535077       336.4  \n",
      "9         0.00112  10719005  3.601237e+09    -0.059773       334.6  \n",
      "10        0.00182  17433778  5.744797e+09    -2.153110       334.4  \n",
      "11        0.00130  12445742  4.134843e+09     1.222494       327.2  \n",
      "12        0.00113  10822038  3.571078e+09    -0.905797       331.2  \n",
      "13        0.00154  14689552  4.828991e+09     0.243754       328.2  \n",
      "HK.00700\n",
      "[344.8, 348.2, 348.4, 345.4, 342.4, 341.8, 337.2, 336.4, 334.6, 334.4, 327.2, 331.2, 328.2, 329.0]\n"
     ]
    },
    {
     "name": "stderr",
     "output_type": "stream",
     "text": [
      "2020-08-14 22:36:10,521 [network_manager.py] work:366: Close: conn_id=13\n"
     ]
    }
   ],
   "source": [
    "from futu import *\n",
    "quote_ctx = OpenQuoteContext(host='127.0.0.1', port=11111)\n",
    "ret, data, page_req_key = quote_ctx.request_history_kline('HK.00700', start='2019-09-11', end='2019-09-30') \n",
    "if ret == RET_OK:\n",
    "    print(data)\n",
    "    print(data['code'][0])    # 取第一条的股票代码\n",
    "    print(data['close'].values.tolist())   # 第一页收盘价转为list\n",
    "else:\n",
    "    print('error:', data)\n",
    "quote_ctx.close() # 结束后记得关闭当条连接，防止连接条数用尽"
   ]
  },
  {
   "cell_type": "code",
   "execution_count": 20,
   "metadata": {},
   "outputs": [
    {
     "name": "stderr",
     "output_type": "stream",
     "text": [
      "2020-08-15 09:34:56,247 [open_context_base.py] _socket_reconnect_and_wait_ready:255: Start connecting: host=127.0.0.1; port=11111;\n",
      "2020-08-15 09:34:56,249 [open_context_base.py] on_connected:344: Connected : conn_id=18; \n",
      "2020-08-15 09:34:56,251 [open_context_base.py] _handle_init_connect:445: InitConnect ok: conn_id=18; info={'server_version': 215, 'login_user_id': 15468041, 'conn_id': 6700409432307546322, 'conn_key': '885B7FBE4A9168A1', 'conn_iv': '1D3817FBC5B1F514', 'keep_alive_interval': 10, 'is_encrypt': False};\n"
     ]
    },
    {
     "name": "stdout",
     "output_type": "stream",
     "text": [
      "subscription failed 订阅权限不足 00700\n"
     ]
    },
    {
     "name": "stderr",
     "output_type": "stream",
     "text": [
      "2020-08-15 09:34:56,274 [network_manager.py] work:366: Close: conn_id=18\n"
     ]
    }
   ],
   "source": [
    "from futu import *\n",
    "quote_ctx = OpenQuoteContext(host='127.0.0.1', port=11111)\n",
    "ret_sub, err_message = quote_ctx.subscribe(['HK.00700'], [SubType.RT_DATA], subscribe_push=False)\n",
    "# 先订阅分时数据类型。订阅成功后OpenD将持续收到服务器的推送，False代表暂时不需要推送给脚本\n",
    "if ret_sub == RET_OK:   # 订阅成功\n",
    "    ret, data = quote_ctx.get_rt_data('HK.00700')   # 获取一次分时数据\n",
    "    if ret == RET_OK:\n",
    "        print(data)\n",
    "    else:\n",
    "        print('error:', data)\n",
    "else:\n",
    "    print('subscription failed', err_message)\n",
    "quote_ctx.close()   # 关闭当条连接，OpenD会在1分钟后自动取消相应股票相应类型的订阅"
   ]
  },
  {
   "cell_type": "code",
   "execution_count": 18,
   "metadata": {},
   "outputs": [
    {
     "name": "stderr",
     "output_type": "stream",
     "text": [
      "2020-08-14 22:59:55,455 [open_context_base.py] _socket_reconnect_and_wait_ready:255: Start connecting: host=127.0.0.1; port=11111;\n",
      "2020-08-14 22:59:55,457 [open_context_base.py] on_connected:344: Connected : conn_id=16; \n",
      "2020-08-14 22:59:55,459 [open_context_base.py] _handle_init_connect:445: InitConnect ok: conn_id=16; info={'server_version': 215, 'login_user_id': 15468041, 'conn_id': 6700249626001853475, 'conn_key': '722966DB4991DC01', 'conn_iv': '721360711E9D654C', 'keep_alive_interval': 10, 'is_encrypt': False};\n"
     ]
    },
    {
     "name": "stdout",
     "output_type": "stream",
     "text": [
      "       code  lot_size stock_name  stock_owner  stock_child_type stock_type  \\\n",
      "0  HK.00462      4000       天然乳品          NaN               NaN      STOCK   \n",
      "1  HK.01117      1000       现代牧业          NaN               NaN      STOCK   \n",
      "2  HK.01230      1000      雅士利国际          NaN               NaN      STOCK   \n",
      "3  HK.01431      1000      原生态牧业          NaN               NaN      STOCK   \n",
      "4  HK.01432      1000       中国圣牧          NaN               NaN      STOCK   \n",
      "5  HK.01492      2000       中地乳业          NaN               NaN      STOCK   \n",
      "6  HK.01533       500       庄园牧场          NaN               NaN      STOCK   \n",
      "7  HK.01717      1000         澳优          NaN               NaN      STOCK   \n",
      "8  HK.02319      1000       蒙牛乳业          NaN               NaN      STOCK   \n",
      "9  HK.06186      1000       中国飞鹤          NaN               NaN      STOCK   \n",
      "\n",
      "    list_time        stock_id  main_contract last_trade_time  \n",
      "0  2005-06-10  55589761712590          False                  \n",
      "1  2010-11-26  64158221468765          False                  \n",
      "2  2010-11-01  64050847286478          False                  \n",
      "3  2013-11-26  68865505625495          False                  \n",
      "4  2014-07-15  69857643070872          False                  \n",
      "5  2015-12-02            1492          False                  \n",
      "6  2015-10-15  71820443125245          False                  \n",
      "7  2009-10-08  62380105008821          False                  \n",
      "8  2004-06-10  54022098651407          False                  \n",
      "9  2019-11-13  78159814858794          False                  \n",
      "天然乳品\n",
      "['天然乳品', '现代牧业', '雅士利国际', '原生态牧业', '中国圣牧', '中地乳业', '庄园牧场', '澳优', '蒙牛乳业', '中国飞鹤']\n"
     ]
    },
    {
     "name": "stderr",
     "output_type": "stream",
     "text": [
      "2020-08-14 22:59:55,666 [network_manager.py] work:366: Close: conn_id=16\n"
     ]
    }
   ],
   "source": [
    "from futu import *\n",
    "quote_ctx = OpenQuoteContext(host='127.0.0.1', port=11111)\n",
    "\n",
    "ret, data = quote_ctx.get_plate_stock('HK.BK1001')\n",
    "if ret == RET_OK:\n",
    "    print(data)\n",
    "    print(data['stock_name'][0])    # 取第一条的股票名称\n",
    "    print(data['stock_name'].values.tolist())   # 转为list\n",
    "else:\n",
    "    print('error:', data)\n",
    "quote_ctx.close() # 结束后记得关闭当条连接，防止连接条数用尽"
   ]
  }
 ],
 "metadata": {
  "kernelspec": {
   "display_name": "Python 3",
   "language": "python",
   "name": "python3"
  },
  "language_info": {
   "codemirror_mode": {
    "name": "ipython",
    "version": 3
   },
   "file_extension": ".py",
   "mimetype": "text/x-python",
   "name": "python",
   "nbconvert_exporter": "python",
   "pygments_lexer": "ipython3",
   "version": "3.8.3"
  }
 },
 "nbformat": 4,
 "nbformat_minor": 4
}
