{
 "cells": [
  {
   "cell_type": "code",
   "execution_count": 26,
   "metadata": {},
   "outputs": [
    {
     "name": "stderr",
     "output_type": "stream",
     "text": [
      "2020-08-18 18:46:06,853 [open_context_base.py] _socket_reconnect_and_wait_ready:255: Start connecting: host=127.0.0.1; port=11111;\n",
      "2020-08-18 18:46:06,855 [open_context_base.py] on_connected:344: Connected : conn_id=26; \n",
      "2020-08-18 18:46:06,857 [open_context_base.py] _handle_init_connect:445: InitConnect ok: conn_id=26; info={'server_version': 215, 'login_user_id': 15468041, 'conn_id': 6701635304079441627, 'conn_key': '14E9908C519128B4', 'conn_iv': 'BC61AB181B5D925D', 'keep_alive_interval': 10, 'is_encrypt': False};\n"
     ]
    },
    {
     "data": {
      "text/html": [
       "<div>\n",
       "<style scoped>\n",
       "    .dataframe tbody tr th:only-of-type {\n",
       "        vertical-align: middle;\n",
       "    }\n",
       "\n",
       "    .dataframe tbody tr th {\n",
       "        vertical-align: top;\n",
       "    }\n",
       "\n",
       "    .dataframe thead th {\n",
       "        text-align: right;\n",
       "    }\n",
       "</style>\n",
       "<table border=\"1\" class=\"dataframe\">\n",
       "  <thead>\n",
       "    <tr style=\"text-align: right;\">\n",
       "      <th></th>\n",
       "      <th>code</th>\n",
       "      <th>update_time</th>\n",
       "      <th>last_price</th>\n",
       "      <th>open_price</th>\n",
       "      <th>high_price</th>\n",
       "      <th>low_price</th>\n",
       "      <th>prev_close_price</th>\n",
       "      <th>volume</th>\n",
       "      <th>turnover</th>\n",
       "      <th>turnover_rate</th>\n",
       "      <th>...</th>\n",
       "      <th>pre_turnover</th>\n",
       "      <th>pre_change_val</th>\n",
       "      <th>pre_change_rate</th>\n",
       "      <th>pre_amplitude</th>\n",
       "      <th>after_price</th>\n",
       "      <th>after_high_price</th>\n",
       "      <th>after_low_price</th>\n",
       "      <th>after_change_val</th>\n",
       "      <th>after_change_rate</th>\n",
       "      <th>after_amplitude</th>\n",
       "    </tr>\n",
       "  </thead>\n",
       "  <tbody>\n",
       "    <tr>\n",
       "      <th>0</th>\n",
       "      <td>HK.00700</td>\n",
       "      <td>2020-08-18 16:08:03</td>\n",
       "      <td>512.0</td>\n",
       "      <td>515.0</td>\n",
       "      <td>516.5</td>\n",
       "      <td>509.0</td>\n",
       "      <td>504.5</td>\n",
       "      <td>13387278</td>\n",
       "      <td>6.858288e+09</td>\n",
       "      <td>0.14</td>\n",
       "      <td>...</td>\n",
       "      <td>N/A</td>\n",
       "      <td>N/A</td>\n",
       "      <td>N/A</td>\n",
       "      <td>N/A</td>\n",
       "      <td>N/A</td>\n",
       "      <td>N/A</td>\n",
       "      <td>N/A</td>\n",
       "      <td>N/A</td>\n",
       "      <td>N/A</td>\n",
       "      <td>N/A</td>\n",
       "    </tr>\n",
       "  </tbody>\n",
       "</table>\n",
       "<p>1 rows × 132 columns</p>\n",
       "</div>"
      ],
      "text/plain": [
       "       code          update_time  last_price  open_price  high_price  \\\n",
       "0  HK.00700  2020-08-18 16:08:03       512.0       515.0       516.5   \n",
       "\n",
       "   low_price  prev_close_price    volume      turnover  turnover_rate  ...  \\\n",
       "0      509.0             504.5  13387278  6.858288e+09           0.14  ...   \n",
       "\n",
       "   pre_turnover pre_change_val  pre_change_rate  pre_amplitude  after_price  \\\n",
       "0           N/A            N/A              N/A            N/A          N/A   \n",
       "\n",
       "  after_high_price after_low_price after_change_val after_change_rate  \\\n",
       "0              N/A             N/A              N/A               N/A   \n",
       "\n",
       "   after_amplitude  \n",
       "0              N/A  \n",
       "\n",
       "[1 rows x 132 columns]"
      ]
     },
     "metadata": {},
     "output_type": "display_data"
    },
    {
     "name": "stderr",
     "output_type": "stream",
     "text": [
      "2020-08-18 18:46:07,081 [network_manager.py] work:366: Close: conn_id=26\n"
     ]
    }
   ],
   "source": [
    "######### 获取市场快照数据\n",
    "from futu import *\n",
    "import pandas as pd\n",
    "quote_ctx = OpenQuoteContext(host='127.0.0.1', port=11111)\n",
    "ret, data = quote_ctx.get_market_snapshot('HK.00700')\n",
    "quote_ctx.close() # 结束后记得关闭当条连接，防止连接条数用尽\n",
    "display(data)"
   ]
  },
  {
   "cell_type": "code",
   "execution_count": 17,
   "metadata": {},
   "outputs": [
    {
     "name": "stderr",
     "output_type": "stream",
     "text": [
      "2020-08-14 22:53:00,628 [open_context_base.py] _socket_reconnect_and_wait_ready:255: Start connecting: host=127.0.0.1; port=11111;\n",
      "2020-08-14 22:53:00,630 [open_context_base.py] on_connected:344: Connected : conn_id=15; \n",
      "2020-08-14 22:53:00,632 [open_context_base.py] _handle_init_connect:445: InitConnect ok: conn_id=15; info={'server_version': 215, 'login_user_id': 15468041, 'conn_id': 6700247886092238657, 'conn_key': 'F42FEDD8499144E9', 'conn_iv': '9A0046E4E69CC55B', 'keep_alive_interval': 10, 'is_encrypt': False};\n"
     ]
    },
    {
     "data": {
      "text/html": [
       "<div>\n",
       "<style scoped>\n",
       "    .dataframe tbody tr th:only-of-type {\n",
       "        vertical-align: middle;\n",
       "    }\n",
       "\n",
       "    .dataframe tbody tr th {\n",
       "        vertical-align: top;\n",
       "    }\n",
       "\n",
       "    .dataframe thead th {\n",
       "        text-align: right;\n",
       "    }\n",
       "</style>\n",
       "<table border=\"1\" class=\"dataframe\">\n",
       "  <thead>\n",
       "    <tr style=\"text-align: right;\">\n",
       "      <th></th>\n",
       "      <th>code</th>\n",
       "      <th>name</th>\n",
       "      <th>lot_size</th>\n",
       "      <th>stock_type</th>\n",
       "      <th>stock_child_type</th>\n",
       "      <th>stock_owner</th>\n",
       "      <th>option_type</th>\n",
       "      <th>strike_time</th>\n",
       "      <th>strike_price</th>\n",
       "      <th>suspension</th>\n",
       "      <th>listing_date</th>\n",
       "      <th>stock_id</th>\n",
       "      <th>delisting</th>\n",
       "      <th>index_option_type</th>\n",
       "      <th>main_contract</th>\n",
       "      <th>last_trade_time</th>\n",
       "    </tr>\n",
       "  </thead>\n",
       "  <tbody>\n",
       "    <tr>\n",
       "      <th>0</th>\n",
       "      <td>HK.00001</td>\n",
       "      <td>长和</td>\n",
       "      <td>500</td>\n",
       "      <td>STOCK</td>\n",
       "      <td>N/A</td>\n",
       "      <td></td>\n",
       "      <td></td>\n",
       "      <td></td>\n",
       "      <td>N/A</td>\n",
       "      <td>N/A</td>\n",
       "      <td>2015-03-18</td>\n",
       "      <td>4440996184065</td>\n",
       "      <td>False</td>\n",
       "      <td>N/A</td>\n",
       "      <td>False</td>\n",
       "      <td></td>\n",
       "    </tr>\n",
       "    <tr>\n",
       "      <th>1</th>\n",
       "      <td>HK.00002</td>\n",
       "      <td>中电控股</td>\n",
       "      <td>500</td>\n",
       "      <td>STOCK</td>\n",
       "      <td>N/A</td>\n",
       "      <td></td>\n",
       "      <td></td>\n",
       "      <td></td>\n",
       "      <td>N/A</td>\n",
       "      <td>N/A</td>\n",
       "      <td>1970-01-01</td>\n",
       "      <td>2</td>\n",
       "      <td>False</td>\n",
       "      <td>N/A</td>\n",
       "      <td>False</td>\n",
       "      <td></td>\n",
       "    </tr>\n",
       "    <tr>\n",
       "      <th>2</th>\n",
       "      <td>HK.00003</td>\n",
       "      <td>香港中华煤气</td>\n",
       "      <td>1000</td>\n",
       "      <td>STOCK</td>\n",
       "      <td>N/A</td>\n",
       "      <td></td>\n",
       "      <td></td>\n",
       "      <td></td>\n",
       "      <td>N/A</td>\n",
       "      <td>N/A</td>\n",
       "      <td>1970-01-01</td>\n",
       "      <td>3</td>\n",
       "      <td>False</td>\n",
       "      <td>N/A</td>\n",
       "      <td>False</td>\n",
       "      <td></td>\n",
       "    </tr>\n",
       "    <tr>\n",
       "      <th>3</th>\n",
       "      <td>HK.00004</td>\n",
       "      <td>九龙仓集团</td>\n",
       "      <td>1000</td>\n",
       "      <td>STOCK</td>\n",
       "      <td>N/A</td>\n",
       "      <td></td>\n",
       "      <td></td>\n",
       "      <td></td>\n",
       "      <td>N/A</td>\n",
       "      <td>N/A</td>\n",
       "      <td>1970-01-01</td>\n",
       "      <td>4</td>\n",
       "      <td>False</td>\n",
       "      <td>N/A</td>\n",
       "      <td>False</td>\n",
       "      <td></td>\n",
       "    </tr>\n",
       "    <tr>\n",
       "      <th>4</th>\n",
       "      <td>HK.00005</td>\n",
       "      <td>汇丰控股</td>\n",
       "      <td>400</td>\n",
       "      <td>STOCK</td>\n",
       "      <td>N/A</td>\n",
       "      <td></td>\n",
       "      <td></td>\n",
       "      <td></td>\n",
       "      <td>N/A</td>\n",
       "      <td>N/A</td>\n",
       "      <td>1970-01-01</td>\n",
       "      <td>5</td>\n",
       "      <td>False</td>\n",
       "      <td>N/A</td>\n",
       "      <td>False</td>\n",
       "      <td></td>\n",
       "    </tr>\n",
       "  </tbody>\n",
       "</table>\n",
       "</div>"
      ],
      "text/plain": [
       "       code    name  lot_size stock_type stock_child_type stock_owner  \\\n",
       "0  HK.00001      长和       500      STOCK              N/A               \n",
       "1  HK.00002    中电控股       500      STOCK              N/A               \n",
       "2  HK.00003  香港中华煤气      1000      STOCK              N/A               \n",
       "3  HK.00004   九龙仓集团      1000      STOCK              N/A               \n",
       "4  HK.00005    汇丰控股       400      STOCK              N/A               \n",
       "\n",
       "  option_type strike_time strike_price suspension listing_date       stock_id  \\\n",
       "0                                  N/A        N/A   2015-03-18  4440996184065   \n",
       "1                                  N/A        N/A   1970-01-01              2   \n",
       "2                                  N/A        N/A   1970-01-01              3   \n",
       "3                                  N/A        N/A   1970-01-01              4   \n",
       "4                                  N/A        N/A   1970-01-01              5   \n",
       "\n",
       "   delisting index_option_type  main_contract last_trade_time  \n",
       "0      False               N/A          False                  \n",
       "1      False               N/A          False                  \n",
       "2      False               N/A          False                  \n",
       "3      False               N/A          False                  \n",
       "4      False               N/A          False                  "
      ]
     },
     "execution_count": 17,
     "metadata": {},
     "output_type": "execute_result"
    }
   ],
   "source": [
    "######## 获取股票基本信息\n",
    "\n",
    "from futu import *\n",
    "import pandas as pd\n",
    "quote_ctx = OpenQuoteContext(host='127.0.0.1', port=11111)\n",
    "ret, data = quote_ctx.get_stock_basicinfo(Market.HK, SecurityType.STOCK)\n",
    "  \n",
    "df = pd.DataFrame(data)\n",
    "df.head()"
   ]
  },
  {
   "cell_type": "code",
   "execution_count": 18,
   "metadata": {},
   "outputs": [
    {
     "name": "stderr",
     "output_type": "stream",
     "text": [
      "2020-08-14 22:59:55,455 [open_context_base.py] _socket_reconnect_and_wait_ready:255: Start connecting: host=127.0.0.1; port=11111;\n",
      "2020-08-14 22:59:55,457 [open_context_base.py] on_connected:344: Connected : conn_id=16; \n",
      "2020-08-14 22:59:55,459 [open_context_base.py] _handle_init_connect:445: InitConnect ok: conn_id=16; info={'server_version': 215, 'login_user_id': 15468041, 'conn_id': 6700249626001853475, 'conn_key': '722966DB4991DC01', 'conn_iv': '721360711E9D654C', 'keep_alive_interval': 10, 'is_encrypt': False};\n"
     ]
    },
    {
     "name": "stdout",
     "output_type": "stream",
     "text": [
      "       code  lot_size stock_name  stock_owner  stock_child_type stock_type  \\\n",
      "0  HK.00462      4000       天然乳品          NaN               NaN      STOCK   \n",
      "1  HK.01117      1000       现代牧业          NaN               NaN      STOCK   \n",
      "2  HK.01230      1000      雅士利国际          NaN               NaN      STOCK   \n",
      "3  HK.01431      1000      原生态牧业          NaN               NaN      STOCK   \n",
      "4  HK.01432      1000       中国圣牧          NaN               NaN      STOCK   \n",
      "5  HK.01492      2000       中地乳业          NaN               NaN      STOCK   \n",
      "6  HK.01533       500       庄园牧场          NaN               NaN      STOCK   \n",
      "7  HK.01717      1000         澳优          NaN               NaN      STOCK   \n",
      "8  HK.02319      1000       蒙牛乳业          NaN               NaN      STOCK   \n",
      "9  HK.06186      1000       中国飞鹤          NaN               NaN      STOCK   \n",
      "\n",
      "    list_time        stock_id  main_contract last_trade_time  \n",
      "0  2005-06-10  55589761712590          False                  \n",
      "1  2010-11-26  64158221468765          False                  \n",
      "2  2010-11-01  64050847286478          False                  \n",
      "3  2013-11-26  68865505625495          False                  \n",
      "4  2014-07-15  69857643070872          False                  \n",
      "5  2015-12-02            1492          False                  \n",
      "6  2015-10-15  71820443125245          False                  \n",
      "7  2009-10-08  62380105008821          False                  \n",
      "8  2004-06-10  54022098651407          False                  \n",
      "9  2019-11-13  78159814858794          False                  \n",
      "天然乳品\n",
      "['天然乳品', '现代牧业', '雅士利国际', '原生态牧业', '中国圣牧', '中地乳业', '庄园牧场', '澳优', '蒙牛乳业', '中国飞鹤']\n"
     ]
    },
    {
     "name": "stderr",
     "output_type": "stream",
     "text": [
      "2020-08-14 22:59:55,666 [network_manager.py] work:366: Close: conn_id=16\n"
     ]
    }
   ],
   "source": [
    "######## 获取特定板块股票基本数据\n",
    "\n",
    "\n",
    "from futu import *\n",
    "quote_ctx = OpenQuoteContext(host='127.0.0.1', port=11111)\n",
    "\n",
    "ret, data = quote_ctx.get_plate_stock('HK.BK1001')\n",
    "if ret == RET_OK:\n",
    "    print(data)\n",
    "    print(data['stock_name'][0])    # 取第一条的股票名称\n",
    "    print(data['stock_name'].values.tolist())   # 转为list\n",
    "else:\n",
    "    print('error:', data)\n",
    "quote_ctx.close() # 结束后记得关闭当条连接，防止连接条数用尽"
   ]
  },
  {
   "cell_type": "code",
   "execution_count": 17,
   "metadata": {},
   "outputs": [
    {
     "name": "stderr",
     "output_type": "stream",
     "text": [
      "2020-08-18 18:17:11,658 [open_context_base.py] _socket_reconnect_and_wait_ready:255: Start connecting: host=127.0.0.1; port=11111;\n",
      "2020-08-18 18:17:11,659 [open_context_base.py] on_connected:344: Connected : conn_id=17; \n",
      "2020-08-18 18:17:11,661 [open_context_base.py] _handle_init_connect:445: InitConnect ok: conn_id=17; info={'server_version': 215, 'login_user_id': 15468041, 'conn_id': 6701628026139977188, 'conn_key': 'D63539825191F06F', 'conn_iv': '44995551145C3278', 'keep_alive_interval': 10, 'is_encrypt': False};\n"
     ]
    },
    {
     "name": "stdout",
     "output_type": "stream",
     "text": [
      "         code plate_name plate_id\n",
      "0   HK.BK1001        乳制品   BK1001\n",
      "1   HK.BK1002   采购及供应链管理   BK1002\n",
      "2   HK.BK1003         保险   BK1003\n",
      "3   HK.BK1004         信贷   BK1004\n",
      "4   HK.BK1005       公共运输   BK1005\n",
      "..        ...        ...      ...\n",
      "89  HK.BK1274       电子零件   BK1274\n",
      "90  HK.BK1275         鞋类   BK1275\n",
      "91  HK.BK1276      其他零售商   BK1276\n",
      "92  HK.BK1277         服装   BK1277\n",
      "93  HK.BK1278    家居装修零售商   BK1278\n",
      "\n",
      "[94 rows x 3 columns]\n",
      "乳制品\n",
      "['乳制品', '采购及供应链管理', '保险', '信贷', '公共运输', '其他金融', '农产品', '出版', '包装食品', '化肥及农用化合物', '医疗保健设备', '半导体', '卫星及无线通讯', '印刷及包装', '非传统/可再生能源', '商业用车及货车', '地产发展商', '地产投资', '家具', '家庭电器', '工业零件及器材', '广告及宣传', '广播', '建筑材料', '影视娱乐', '投资及资产管理', '其他支援服务', '消闲及文娱设施', '新能源物料', '旅游及观光', '纺织品及布料', '林业及木材', '水务', '汽车', '汽车零件', '气油生产商', '气油设备与服务', '煤炭', '燃气供应', '特殊化工用品', '玩具及消闲用品', '环保工程', '珠宝钟表', '生物技术', '电力', '消费电子产品', '电脑及周边器材', '电讯服务', '电讯设备', '多元化零售商', '电子商贸及互联网服务', '纸及纸制品', '综合企业', '个人护理', '航空航天与国防', '航空服务', '航空货运及物流', '航运及港口', '药品', '证券及经纪', '赌场及博彩', '超市及便利店', '酒店及度假村', '酒精饮料', '重型基建', '重机械', '钢铁', '铁路及公路', '铜', '铝', '银行', '非酒精饮料', '食品添加剂', '餐饮', '黄金及贵金属', '医疗及医学美容服务', '房地产信托', '地产代理', '物业服务及管理', '教育', '楼宇建造', '系统开发及资讯科技顾问', '软件开发', '其他服饰配件', '汽车零售商', '服装零售商', '环保工程', '禽畜饲料', '禽畜肉类', '电子零件', '鞋类', '其他零售商', '服装', '家居装修零售商']\n"
     ]
    },
    {
     "name": "stderr",
     "output_type": "stream",
     "text": [
      "2020-08-18 18:17:11,869 [network_manager.py] work:366: Close: conn_id=17\n"
     ]
    }
   ],
   "source": [
    "######## 获取板块信息\n",
    "from futu import *\n",
    "quote_ctx = OpenQuoteContext(host='127.0.0.1', port=11111)\n",
    "\n",
    "ret, data = quote_ctx.get_plate_list(Market.HK, Plate.INDUSTRY)\n",
    "if ret == RET_OK:\n",
    "    print(data)\n",
    "    print(data['plate_name'][0])    # 取第一条的板块名称\n",
    "    print(data['plate_name'].values.tolist())   # 转为list\n",
    "else:\n",
    "    print('error:', data)\n",
    "quote_ctx.close() # 结束后记得关闭当条连接，防止连接条数用尽"
   ]
  },
  {
   "cell_type": "code",
   "execution_count": 24,
   "metadata": {},
   "outputs": [
    {
     "name": "stderr",
     "output_type": "stream",
     "text": [
      "2020-08-18 18:33:06,217 [open_context_base.py] _socket_reconnect_and_wait_ready:255: Start connecting: host=127.0.0.1; port=11111;\n",
      "2020-08-18 18:33:06,219 [open_context_base.py] on_connected:344: Connected : conn_id=24; \n",
      "2020-08-18 18:33:06,221 [open_context_base.py] _handle_init_connect:445: InitConnect ok: conn_id=24; info={'server_version': 215, 'login_user_id': 15468041, 'conn_id': 6701632029852404157, 'conn_key': 'AFC0E9875191E0B9', 'conn_iv': '30AF2D42995CF2F3', 'keep_alive_interval': 10, 'is_encrypt': False};\n"
     ]
    },
    {
     "name": "stdout",
     "output_type": "stream",
     "text": [
      "        code          plate_code    plate_name plate_type\n",
      "0   HK.00001  HK.HSI Constituent         恒指成份股      OTHER\n",
      "1   HK.00001       HK.GangGuTong        港股通(沪)      OTHER\n",
      "2   HK.00001           HK.BK1000         做空集合股    CONCEPT\n",
      "3   HK.00001           HK.BK1061          综合企业   INDUSTRY\n",
      "4   HK.00001           HK.BK1107           蓝筹股      OTHER\n",
      "5   HK.00001           HK.BK1197  挪威政府全球养老基金持仓    CONCEPT\n",
      "6   HK.00001           HK.BK1249           长和系    CONCEPT\n",
      "7   HK.00001           HK.BK1600           热度榜      OTHER\n",
      "8   HK.00001           HK.BK1609         可融资股票      OTHER\n",
      "9   HK.00001           HK.BK1922        港股通(深)      OTHER\n",
      "10  HK.00001           HK.BK1983       香港股票ADR      OTHER\n",
      "11  HK.00001           HK.BK1993         香港本地股    CONCEPT\n",
      "HK.00001\n",
      "['HK.HSI Constituent', 'HK.GangGuTong', 'HK.BK1000', 'HK.BK1061', 'HK.BK1107', 'HK.BK1197', 'HK.BK1249', 'HK.BK1600', 'HK.BK1609', 'HK.BK1922', 'HK.BK1983', 'HK.BK1993']\n"
     ]
    },
    {
     "name": "stderr",
     "output_type": "stream",
     "text": [
      "2020-08-18 18:33:06,429 [network_manager.py] work:366: Close: conn_id=24\n"
     ]
    }
   ],
   "source": [
    "######## 获取指定股票所属板块信息\n",
    "\n",
    "from futu import *\n",
    "quote_ctx = OpenQuoteContext(host='127.0.0.1', port=11111)\n",
    "\n",
    "code_list = ['HK.00001']\n",
    "ret, data = quote_ctx.get_owner_plate(code_list)\n",
    "if ret == RET_OK:\n",
    "    print(data)\n",
    "    print(data['code'][0])    # 取第一条的股票代码\n",
    "    print(data['plate_code'].values.tolist())   # 板块代码转为list\n",
    "else:\n",
    "    print('error:', data)\n",
    "quote_ctx.close() # 结束后记得关闭当条连接，防止连接条数用尽"
   ]
  },
  {
   "cell_type": "code",
   "execution_count": 25,
   "metadata": {},
   "outputs": [
    {
     "name": "stderr",
     "output_type": "stream",
     "text": [
      "2020-08-18 18:34:00,392 [open_context_base.py] _socket_reconnect_and_wait_ready:255: Start connecting: host=127.0.0.1; port=11111;\n",
      "2020-08-18 18:34:00,394 [open_context_base.py] on_connected:344: Connected : conn_id=25; \n",
      "2020-08-18 18:34:00,396 [open_context_base.py] _handle_init_connect:445: InitConnect ok: conn_id=25; info={'server_version': 215, 'login_user_id': 15468041, 'conn_id': 6701632257079925136, 'conn_key': 'EB6A3C8851913824', 'conn_iv': '570C5C97A25CB22B', 'keep_alive_interval': 10, 'is_encrypt': False};\n"
     ]
    },
    {
     "name": "stdout",
     "output_type": "stream",
     "text": [
      "                                          holder_name  holding_qty  \\\n",
      "0                            The Vanguard Group, Inc.  331132509.0   \n",
      "1                             Berkshire Hathaway Inc.  248838679.0   \n",
      "2         BlackRock Institutional Trust Company, N.A.  191322355.0   \n",
      "3                   State Street Global Advisors (US)  184232445.0   \n",
      "4              Fidelity Management & Research Company   93697202.0   \n",
      "..                                                ...          ...   \n",
      "88             Deutsche Asset Management (UK) Limited    4247259.0   \n",
      "89                          Chevy Chase Trust Company    4237513.0   \n",
      "90                      Allianz Global Investors GmbH    4013094.0   \n",
      "91                  Manulife Asset Management Limited    4010917.0   \n",
      "92  Los Angeles Capital Management And Equity Rese...    4007663.0   \n",
      "\n",
      "    holding_ratio  change_qty  change_ratio                 time  \n",
      "0          7.4525  -3981157.0         -1.19  2019-09-30 00:00:00  \n",
      "1          5.6004   -750650.0         -0.30  2019-09-30 00:00:00  \n",
      "2          4.3059  -1857097.0         -0.96  2019-09-30 00:00:00  \n",
      "3          4.1463  -2852971.0         -1.52  2019-09-30 00:00:00  \n",
      "4          2.1087   -715479.0         -0.76  2019-09-30 00:00:00  \n",
      "..            ...         ...           ...                  ...  \n",
      "88         0.0956   -933758.0        -18.02  2019-09-30 00:00:00  \n",
      "89         0.0954    -78812.0         -1.83  2019-09-30 00:00:00  \n",
      "90         0.0903   -296732.0         -6.89  2019-09-30 00:00:00  \n",
      "91         0.0903     15972.0          0.40  2019-09-30 00:00:00  \n",
      "92         0.0902    -57784.0         -1.42  2019-09-30 00:00:00  \n",
      "\n",
      "[93 rows x 6 columns]\n",
      "7.4525\n",
      "[7.4525, 5.6004, 4.3059, 4.1463, 2.1087, 1.3884, 1.0522, 0.905, 0.7931, 0.7871, 0.7782, 0.6872, 0.6687, 0.666, 0.6186, 0.5559, 0.4587, 0.4535, 0.448, 0.4215, 0.4135, 0.4115, 0.3924, 0.3854, 0.3825, 0.382, 0.3667, 0.3436, 0.3363, 0.3177, 0.3107, 0.3155, 0.312, 0.2916, 0.291, 0.2848, 0.2716, 0.2591, 0.2572, 0.2496, 0.2477, 0.2441, 0.2332, 0.221, 0.2078, 0.1936, 0.1884, 0.1872, 0.1835, 0.1769, 0.1773, 0.1766, 0.1748, 0.1571, 0.1456, 0.1456, 0.1455, 0.1453, 0.1414, 0.1419, 0.1396, 0.1365, 0.1364, 0.1348, 0.1249, 0.1245, 0.1238, 0.1215, 0.1205, 0.1197, 0.1186, 0.1182, 0.1177, 0.1171, 0.1141, 0.1127, 0.1083, 0.108, 0.1073, 0.1047, 0.1046, 0.1032, 0.1014, 0.1013, 0.0997, 0.0996, 0.0982, 0.0978, 0.0956, 0.0954, 0.0903, 0.0903, 0.0902]\n"
     ]
    },
    {
     "name": "stderr",
     "output_type": "stream",
     "text": [
      "2020-08-18 18:34:00,653 [network_manager.py] work:366: Close: conn_id=25\n"
     ]
    }
   ],
   "source": [
    "####### 获取特定股票大股东持股情况\n",
    "\n",
    "from futu import *\n",
    "quote_ctx = OpenQuoteContext(host='127.0.0.1', port=11111)\n",
    "\n",
    "ret, data = quote_ctx.get_holding_change_list('US.AAPL', StockHolder.INSTITUTE, '2018-10-01')\n",
    "if ret == RET_OK:\n",
    "    print(data)\n",
    "    print(data['holding_ratio'][0])   # 取第一条的持股比例\n",
    "    print(data['holding_ratio'].values.tolist())   # 转为list\n",
    "else:\n",
    "    print('error:', data)\n",
    "quote_ctx.close() # 结束后记得关闭当条连接，防止连接条数用尽"
   ]
  }
 ],
 "metadata": {
  "kernelspec": {
   "display_name": "Python 3",
   "language": "python",
   "name": "python3"
  },
  "language_info": {
   "codemirror_mode": {
    "name": "ipython",
    "version": 3
   },
   "file_extension": ".py",
   "mimetype": "text/x-python",
   "name": "python",
   "nbconvert_exporter": "python",
   "pygments_lexer": "ipython3",
   "version": "3.8.3"
  }
 },
 "nbformat": 4,
 "nbformat_minor": 4
}
